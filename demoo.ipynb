{
 "cells": [
  {
   "cell_type": "code",
   "execution_count": 14,
   "metadata": {},
   "outputs": [
    {
     "ename": "ModuleNotFoundError",
     "evalue": "No module named 'gensim'",
     "output_type": "error",
     "traceback": [
      "\u001b[0;31m---------------------------------------------------------------------------\u001b[0m",
      "\u001b[0;31mModuleNotFoundError\u001b[0m                       Traceback (most recent call last)",
      "Cell \u001b[0;32mIn[14], line 6\u001b[0m\n\u001b[1;32m      4\u001b[0m \u001b[38;5;28;01mimport\u001b[39;00m \u001b[38;5;21;01mrequests\u001b[39;00m\n\u001b[1;32m      5\u001b[0m \u001b[38;5;28;01mfrom\u001b[39;00m \u001b[38;5;21;01mbs4\u001b[39;00m \u001b[38;5;28;01mimport\u001b[39;00m BeautifulSoup\n\u001b[0;32m----> 6\u001b[0m \u001b[38;5;28;01mimport\u001b[39;00m \u001b[38;5;21;01mgensim\u001b[39;00m\n\u001b[1;32m      7\u001b[0m \u001b[38;5;28;01mfrom\u001b[39;00m \u001b[38;5;21;01msklearn\u001b[39;00m\u001b[38;5;21;01m.\u001b[39;00m\u001b[38;5;21;01mfeature_extraction\u001b[39;00m\u001b[38;5;21;01m.\u001b[39;00m\u001b[38;5;21;01mtext\u001b[39;00m \u001b[38;5;28;01mimport\u001b[39;00m CountVectorizer\n\u001b[1;32m      8\u001b[0m \u001b[38;5;28;01mfrom\u001b[39;00m \u001b[38;5;21;01msklearn\u001b[39;00m\u001b[38;5;21;01m.\u001b[39;00m\u001b[38;5;21;01mensemble\u001b[39;00m \u001b[38;5;28;01mimport\u001b[39;00m RandomForestClassifier\n",
      "\u001b[0;31mModuleNotFoundError\u001b[0m: No module named 'gensim'"
     ]
    }
   ],
   "source": [
    "import streamlit as st\n",
    "import pandas as pd\n",
    "import nltk\n",
    "import requests\n",
    "from bs4 import BeautifulSoup\n",
    "import gensim\n",
    "from sklearn.feature_extraction.text import CountVectorizer\n",
    "from sklearn.ensemble import RandomForestClassifier\n",
    "from sklearn.model_selection import train_test_split\n",
    "from sklearn.metrics import accuracy_score, classification_report, confusion_matrix, roc_auc_score\n",
    "from xgboost import XGBClassifier\n",
    "from sklearn.linear_model import LogisticRegression\n",
    "import matplotlib.pyplot as plt\n",
    "import seaborn as sns\n",
    "import pickle"
   ]
  },
  {
   "cell_type": "code",
   "execution_count": null,
   "metadata": {},
   "outputs": [],
   "source": [
    "# Descargar stopwords\n",
    "nltk.download('stopwords')\n",
    "from nltk.corpus import stopwords\n",
    "\n",
    "# Cargar los datos y preprocesarlos\n",
    "verdaderas = pd.read_csv(\"onlytrue1000.csv\")\n",
    "falsas = pd.read_csv(\"onlyfakes1000.csv\")\n",
    "verdaderas[\"Falsa\"] = 0\n",
    "falsas[\"Falsa\"] = 1\n",
    "df = pd.concat([verdaderas, falsas], axis=0).reset_index(drop=True)\n",
    "df.columns = df.columns.str.replace(' ', '')\n",
    "df.rename(columns={\"text\": \"Titulo\"}, inplace=True)\n",
    "df.astype({'Falsa': 'category'}).dtypes\n",
    "\n",
    "# Preprocesamiento del texto\n",
    "stop_words = set(stopwords.words('spanish'))\n",
    "stop_words = list(stop_words)\n",
    "stop_words.extend(['según', 'tras', 'cabe', 'bajo', 'durante', 'mediante', 'so', 'toda', 'todas', 'cada', 'me', 'después', 'despues', 'segun', 'solo', 'sido', 'estan', 'lunes', 'martes', 'miércoles', 'jueves', 'viernes'])\n",
    "\n",
    "def preprocess(text):\n",
    "    result = []\n",
    "    for token in gensim.utils.simple_preprocess(text):\n",
    "        if token not in gensim.parsing.preprocessing.STOPWORDS and len(token) > 3 and token not in stop_words:\n",
    "            result.append(token)\n",
    "    return result\n",
    "\n",
    "df['Titulo limpio'] = df['Titulo'].apply(preprocess)\n",
    "df['TituloDefinitivo'] = df['Titulo limpio'].apply(lambda x: \" \".join(x))\n",
    "X = df['TituloDefinitivo']\n",
    "y = df['Falsa']\n",
    "\n",
    "# División de los datos y entrenamiento de modelos\n",
    "X_train, X_test, y_train, y_test = train_test_split(X, y, test_size=0.2, random_state=42)\n",
    "vect = CountVectorizer()\n",
    "X_train_dtm = vect.fit_transform(X_train)\n",
    "\n",
    "# Entrenar modelo (Random Forest en este caso)\n",
    "model_3 = LogisticRegression()\n",
    "model_3.fit(X_train_dtm, y_train)\n",
    "\n",
    "# Guardar el modelo y el vectorizador\n",
    "with open('model.pkl', 'wb') as model_file:\n",
    "    pickle.dump(model_3, model_file)\n",
    "with open('vectorize.pkl', 'wb') as vectorizer_file:\n",
    "    pickle.dump(vect, vectorizer_file)\n"
   ]
  },
  {
   "cell_type": "code",
   "execution_count": null,
   "metadata": {},
   "outputs": [],
   "source": [
    "def predict_fake_news(url):\n",
    "    response = requests.get(url)\n",
    "    soup = BeautifulSoup(response.text, 'html.parser')\n",
    "    \n",
    "    # Extraer título y contenido\n",
    "    title = soup.find('h1', class_='title').get_text(strip=True) if soup.find('h1', class_='title') else \"\"\n",
    "    article_paragraphs = soup.find_all('p')\n",
    "    article_text = \" \".join([p.get_text(strip=True) for p in article_paragraphs])\n",
    "    \n",
    "    # Preprocesar y predecir\n",
    "    df = pd.DataFrame({'title': [title], 'text': [article_text]})\n",
    "    df['completed_text'] = df['title'] + df['text']\n",
    "    df.dropna(subset=[\"completed_text\"], inplace=True)\n",
    "    df['clean_text'] = df['completed_text'].apply(preprocess)\n",
    "    df['clean_text_joined'] = df['clean_text'].apply(lambda x: \" \".join(x))\n",
    "    \n",
    "    # Transformar el texto en formato vectorizado\n",
    "    test_dtm = vect.transform(df[\"clean_text_joined\"])\n",
    "    y_pred_test = model_3.predict(test_dtm)\n",
    "    \n",
    "    # Devolver resultado\n",
    "    return pd.Series(y_pred_test).map({0: \"Real\", 1: \"Fake\"})[0]"
   ]
  },
  {
   "cell_type": "code",
   "execution_count": null,
   "metadata": {},
   "outputs": [],
   "source": []
  },
  {
   "cell_type": "code",
   "execution_count": null,
   "metadata": {},
   "outputs": [],
   "source": []
  },
  {
   "cell_type": "markdown",
   "metadata": {},
   "source": []
  },
  {
   "cell_type": "code",
   "execution_count": null,
   "metadata": {},
   "outputs": [],
   "source": []
  },
  {
   "cell_type": "code",
   "execution_count": null,
   "metadata": {},
   "outputs": [],
   "source": []
  },
  {
   "cell_type": "code",
   "execution_count": null,
   "metadata": {},
   "outputs": [],
   "source": []
  },
  {
   "cell_type": "code",
   "execution_count": null,
   "metadata": {},
   "outputs": [],
   "source": []
  },
  {
   "cell_type": "code",
   "execution_count": null,
   "metadata": {},
   "outputs": [],
   "source": []
  }
 ],
 "metadata": {
  "kernelspec": {
   "display_name": "Python 3",
   "language": "python",
   "name": "python3"
  },
  "language_info": {
   "codemirror_mode": {
    "name": "ipython",
    "version": 3
   },
   "file_extension": ".py",
   "mimetype": "text/x-python",
   "name": "python",
   "nbconvert_exporter": "python",
   "pygments_lexer": "ipython3",
   "version": "3.12.1"
  }
 },
 "nbformat": 4,
 "nbformat_minor": 2
}
